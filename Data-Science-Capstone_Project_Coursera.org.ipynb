{
    "cells": [
        {
            "cell_type": "markdown",
            "metadata": {},
            "source": "# The Battle of Neighborhoods #"
        },
        {
            "cell_type": "markdown",
            "metadata": {},
            "source": " This Notebook demostrates the Capstone project for IBM Data Science Professional Certificate in [Coursera.org]('https://www.coursera.org')"
        },
        {
            "cell_type": "markdown",
            "metadata": {},
            "source": "## Introduction ##"
        },
        {
            "cell_type": "markdown",
            "metadata": {},
            "source": "In this project, I will be exploring two most popular tourist sites in Nepal: Kathmandu and Pokhara. Both places are rich in tourust attraction sites, hotels,restaurants, resorts and bars. I am going to explore hoe much these places rae similar or dissimilar in aspects from a toursut point of view regarding food, accomodation, visiting sites and so on."
        },
        {
            "cell_type": "markdown",
            "metadata": {},
            "source": "## Data"
        },
        {
            "cell_type": "markdown",
            "metadata": {},
            "source": "For this project, I will use the services of Foursquare API to explore the data of two cities, in terms of their neighborhoods. The data also include the information about the places around each neighborhood like restaurants, hotels, coffee shops, parks, theaters, art galleries, museums and many more. I will use machine learning technique, \u201cClustering\u201d to segment the neighborhoods with similar objects on the basis of each neighborhood data. These objects will be given priority on the basis of foot traffic (activity) in their respective neighborhoods. This will help to locate the tourist\u2019s areas and hubs, and then we can judge the similarity or dissimilarity between two cities on that basis."
        },
        {
            "cell_type": "code",
            "execution_count": null,
            "metadata": {},
            "outputs": [],
            "source": ""
        }
    ],
    "metadata": {
        "kernelspec": {
            "display_name": "Python 3.6",
            "language": "python",
            "name": "python3"
        },
        "language_info": {
            "codemirror_mode": {
                "name": "ipython",
                "version": 3
            },
            "file_extension": ".py",
            "mimetype": "text/x-python",
            "name": "python",
            "nbconvert_exporter": "python",
            "pygments_lexer": "ipython3",
            "version": "3.6.9"
        }
    },
    "nbformat": 4,
    "nbformat_minor": 1
}